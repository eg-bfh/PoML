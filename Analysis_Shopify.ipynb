{
 "cells": [
  {
   "cell_type": "markdown",
   "metadata": {},
   "source": [
    "# Analysis Shopify\n",
    "\n"
   ]
  },
  {
   "cell_type": "code",
   "execution_count": 1,
   "metadata": {},
   "outputs": [],
   "source": [
    "import pandas as pd\n",
    "shopify_df = pd.read_csv(r'Top10k_Shopify.csv');"
   ]
  },
  {
   "cell_type": "code",
   "execution_count": 5,
   "metadata": {},
   "outputs": [],
   "source": [
    "# Keep only the rows where site description is not null\n",
    "shopify_desc_df = shopify_df[shopify_df['Site Description'].notnull()]"
   ]
  },
  {
   "cell_type": "markdown",
   "metadata": {},
   "source": [
    "## Exercise: NE Extraction on Shopify Descriptions"
   ]
  },
  {
   "cell_type": "code",
   "execution_count": 19,
   "metadata": {},
   "outputs": [
    {
     "name": "stdout",
     "output_type": "stream",
     "text": [
      "[('the French Graffiti', 'ORG'), ('1992', 'DATE'), ('Scien & Klor', 'ORG'), ('Banditism', 'ORG'), ('100%', 'PERCENT')]\n",
      "[('CrossFit', 'ORG')]\n",
      "[('Achetez', 'PERSON'), ('AeroPilates', 'ORG'), ('tapis roulant et des', 'ORG')]\n",
      "[('ShadeTree Sunglasses', 'PERSON'), ('today', 'DATE')]\n",
      "[]\n",
      "[('all day long', 'DATE')]\n",
      "[('MZ', 'ORG')]\n",
      "[('Premium Trench Coats', 'ORG'), ('Italian Leather Jackets', 'ORG'), ('Pinnacle', 'ORG'), ('British', 'NORP')]\n",
      "[('Indian', 'NORP'), ('India', 'GPE'), ('| Masks & Safety', 'ORG')]\n",
      "[('50', 'CARDINAL')]\n",
      "[]\n",
      "[('Lisa Robin Adkinson', 'PERSON'), ('Dayton', 'GPE'), ('Ohio', 'GPE')]\n",
      "[('100%', 'PERCENT'), ('today', 'DATE')]\n",
      "[('Lose', 'PERSON')]\n",
      "[('EDM Accessories', 'ORG'), ('EDM Outfits', 'ORG'), ('Over 50', 'CARDINAL'), ('hundreds', 'CARDINAL')]\n",
      "[('Carl Friedrik', 'PERSON'), ('Italy', 'GPE')]\n",
      "[('Shop Naked Nutrition', 'ORG'), ('today', 'DATE')]\n",
      "[]\n",
      "[]\n",
      "[('20,000', 'CARDINAL'), ('Five', 'CARDINAL')]\n",
      "[('Partners Coffee', 'ORG')]\n",
      "[('Parker Clay', 'PERSON'), ('Ethiopia', 'GPE')]\n",
      "[('Salt & Honey', 'ORG'), ('75%', 'PERCENT')]\n",
      "[('Los Angeles', 'GPE')]\n",
      "[('WristCatcher', 'ORG')]\n",
      "[('1946', 'DATE')]\n",
      "[('Masterpiece Me', 'WORK_OF_ART')]\n",
      "[('Organic & Healthy Chicken', 'ORG'), ('Coleman', 'ORG'), ('Naked Chook', 'PERSON'), ('MOE', 'ORG'), ('Tyson, Welsh Lamb', 'ORG'), ('MT', 'GPE')]\n",
      "[('Shop Handmade Jewellery', 'ORG'), ('Temple of the Sun Australia', 'ORG'), ('10%', 'PERCENT'), ('Free Express Delivery On Domestic Orders', 'ORG'), ('200', 'MONEY')]\n",
      "[]\n",
      "[('LCD Digitizers', 'ORG')]\n",
      "[('Bricks World', 'ORG'), ('Singapore', 'GPE'), ('Singapore', 'GPE')]\n",
      "[('the United States', 'GPE'), ('Equipe', 'ORG'), ('PPE', 'ORG')]\n",
      "[]\n",
      "[('MHC', 'ORG')]\n",
      "[('Selvedge', 'ORG')]\n",
      "[('Non GMO, Direct Trade', 'ORG')]\n",
      "[('ULANZI', 'ORG')]\n",
      "[('Queen Street East', 'LOC'), ('Toronto', 'GPE'), ('Toronto', 'GPE')]\n",
      "[('IASTM', 'ORG'), ('10 years', 'DATE'), ('over $69', 'MONEY'), ('Canada', 'GPE')]\n",
      "[('Shopify', 'PERSON'), ('https://bumbleride.com/', 'CARDINAL')]\n",
      "[('1991', 'DATE'), ('Hobo', 'GPE')]\n",
      "[('Sydney', 'GPE'), ('Magic Fit', 'PRODUCT'), ('10 days', 'DATE')]\n",
      "[('Over 1 million', 'CARDINAL')]\n",
      "[('Christmas', 'DATE'), ('Easy Gift World', 'ORG'), ('10%', 'PERCENT'), ('first', 'ORDINAL'), ('today', 'DATE')]\n",
      "[]\n",
      "[('the Black Hills', 'LOC'), ('South Dakota', 'GPE')]\n",
      "[('First', 'ORDINAL'), ('Modern Farmhouse Decor', 'ORG'), ('Exclusive Tuesdays', 'WORK_OF_ART')]\n",
      "[('USA', 'GPE'), ('65', 'MONEY')]\n",
      "[('Shapessy', 'ORG'), (\"Shop for Women's Shapewear, Shaper Panty\", 'ORG'), ('Shaper Bra', 'PERSON'), ('Shaper Bodysuit', 'ORG')]\n",
      "[('san bruno', 'ORG')]\n",
      "[('cat lovers &', 'ORG'), ('25%', 'PERCENT')]\n",
      "[('Bombay Diva', 'ORG'), ('the modern day', 'DATE'), ('kurtis', 'PERSON')]\n",
      "[]\n",
      "[('one', 'CARDINAL')]\n",
      "[('Clean Essentials', 'ORG')]\n",
      "[('Shop Poppy Lane Boutique', 'ORG')]\n",
      "[]\n",
      "[('British', 'NORP')]\n",
      "[('45.00', 'MONEY')]\n",
      "[]\n",
      "[('Lil Love Apparel', 'PERSON')]\n",
      "[('Blenders Eyewear', 'ORG'), ('Shop', 'ORG'), ('today', 'DATE')]\n",
      "[]\n",
      "[('Joyas de plata', 'ORG'), ('estilo', 'ORG'), ('Amamos lo que hacemos', 'PERSON'), ('Descubre nuestra', 'PRODUCT'), ('de Plata de Ley', 'FAC'), ('¡Te Sorprenderemos', 'PERSON')]\n",
      "[]\n",
      "[('Folded Steel', 'ORG')]\n",
      "[('Orphic Nutrition', 'ORG'), ('booster & health', 'ORG')]\n",
      "[('Shop Mikasa', 'ORG'), ('china', 'GPE'), ('drinkware & flatware', 'ORG')]\n",
      "[('Dazzle Crafter', 'PERSON'), ('Premium Diamond', 'ORG'), ('DIY', 'ORG'), ('Craft Hobby', 'ORG')]\n",
      "[('Estelle Colored Glass', 'PERSON'), ('Poland', 'GPE'), ('100-plus', 'CARDINAL'), ('year-old', 'DATE')]\n",
      "[('The Lowest Price With Quickest 1-3 Business Day Delivery', 'ORG')]\n",
      "[]\n",
      "[('Myvpro', 'PERSON'), ('Vape Authorized Seller', 'PRODUCT'), ('USA', 'GPE'), ('Air Factory', 'ORG'), ('Premium E-Liquid', 'ORG'), ('Vape Stop Online', 'ORG')]\n",
      "[('British', 'NORP'), ('UK', 'GPE'), ('Europe', 'LOC'), ('lyocell', 'ORG'), ('Womenswear', 'ORG')]\n",
      "[]\n",
      "[('Pit Barrel Cooker', 'PERSON')]\n",
      "[('Siroh & Ivy', 'ORG'), ('Pittsburgh', 'GPE')]\n",
      "[]\n",
      "[('Halloween', 'DATE')]\n",
      "[('VATÉA', 'ORG'), ('Award Winning', 'PERSON'), ('Australian Certified Organic Baby Skin Care and Natural', 'ORG'), ('the South Pacific', 'LOC')]\n",
      "[('Rachel Roff', 'PERSON')]\n",
      "[('Collaborative', 'ORG')]\n",
      "[('orthopedic', 'GPE'), ('XX-large', 'ORG'), ('& Giant', 'ORG')]\n",
      "[('DOGgone', 'ORG'), ('10%', 'PERCENT'), ('every month', 'DATE')]\n",
      "[('Authentic', 'NORP'), ('& Scandinavian', 'NORP'), ('Home', 'ORG'), ('Ferm Living', 'ORG'), ('Decor', 'ORG'), ('Rugs', 'ORG'), ('30 day', 'DATE')]\n",
      "[('Trademark Beauty', 'ORG'), ('daily', 'DATE')]\n",
      "[('Top Quality Office Chairs & Accessories', 'ORG'), ('Heavy Duty Chairs', 'ORG'), ('Leather Chairs', 'ORG'), ('Big & Tall Chairs', 'ORG'), ('Gaming Chairs', 'ORG'), ('Modern Office', 'ORG'), ('Home & Office Needs', 'ORG')]\n",
      "[('Beautyhabit', 'PERSON'), ('Shop', 'ORG'), ('today', 'DATE')]\n",
      "[('American Manufacturing', 'ORG'), ('USA', 'GPE')]\n",
      "[('MusclePharm®', 'ORG')]\n",
      "[]\n",
      "[('LureStore', 'ORG'), ('LA', 'GPE'), ('Summer 2020', 'DATE'), ('Underwear, Silver jewelry & Handbags', 'ORG'), ('Footwear & kids clothes', 'ORG')]\n",
      "[('the Military-Native Performance Company', 'ORG')]\n",
      "[('5', 'CARDINAL'), ('polish', 'NORP')]\n",
      "[]\n",
      "[('SNÖBAHN', 'ORG'), ('Colorado', 'GPE'), ('the United States', 'GPE')]\n",
      "[('Natural Pet Food', 'ORG'), ('25%', 'PERCENT'), ('first', 'ORDINAL'), ('SAVE', 'ORG'), ('15%', 'PERCENT'), ('Auto-Delivery', 'ORG'), ('5%', 'PERCENT')]\n",
      "[]\n",
      "[('Fashion Wholesaler', 'ORG')]\n"
     ]
    }
   ],
   "source": [
    "# Extract Named Entities with spacy\n",
    "import spacy\n",
    "nlp = spacy.load(\"en_core_web_lg\")\n",
    "\n",
    "\n",
    "\n",
    "for doc in nlp.pipe(shopify_desc_df.sample(n=100)['Site Description']):\n",
    "    # Do something with the doc here\n",
    "    print([(ent.text, ent.label_) for ent in doc.ents])"
   ]
  },
  {
   "cell_type": "markdown",
   "metadata": {},
   "source": [
    "## Exercise: Observations\n",
    "\n",
    "What are your observations in terms of perceived:\n",
    "\n",
    "### Performance\n",
    "\n",
    "...\n",
    "\n",
    "### Model Behavior\n",
    "\n",
    "... \n",
    "\n",
    "What do you assume to be the root cause of these observations?\n",
    "\n",
    "### Potential Cause I\n",
    "...\n",
    "\n",
    "### Potential Cause II\n",
    "...\n"
   ]
  },
  {
   "cell_type": "markdown",
   "metadata": {},
   "source": [
    "## Exercise: Keyphrase Extraction on Shopify Descriptions\n",
    "\n"
   ]
  },
  {
   "cell_type": "code",
   "execution_count": 23,
   "metadata": {},
   "outputs": [
    {
     "data": {
      "text/plain": [
       "<pytextrank.base.BaseTextRankFactory at 0x7f3d1c682c10>"
      ]
     },
     "execution_count": 23,
     "metadata": {},
     "output_type": "execute_result"
    }
   ],
   "source": [
    "import spacy\n",
    "import pytextrank\n",
    "\n",
    "nlp = spacy.load('en_core_web_lg')\n",
    "nlp.add_pipe(\"textrank\")\n",
    "\n"
   ]
  },
  {
   "cell_type": "code",
   "execution_count": 28,
   "metadata": {},
   "outputs": [
    {
     "name": "stdout",
     "output_type": "stream",
     "text": [
      "~~~~~~~~~~~~~~~~~~~~~~~~~~~~~~~~~~~~~~~~~~~~~~~~~~~~~~~~~~~~~~~~~~~~~~~~~~~~~~~~\n",
      "Modern Farmhouse Style Home Decor – The Cozy Nest\n",
      "~~~~~~~~~~~~~~~~~~~~~~~~~~~~~~~~~~~~~~~~~~~~~~~~~~~~~~~~~~~~~~~~~~~~~~~~~~~~~~~~\n",
      "0.2195     1  farmhouse decor\n",
      "[farmhouse decor]\n",
      "0.2070     1  modern farmhouse decor\n",
      "[modern farmhouse decor]\n",
      "0.1994     1  rustic decor\n",
      "[rustic decor]\n",
      "0.1992     1  tabletop decor\n",
      "[tabletop decor]\n",
      "0.1984     1  industrial decor\n",
      "[industrial decor]\n",
      "~~~~~~~~~~~~~~~~~~~~~~~~~~~~~~~~~~~~~~~~~~~~~~~~~~~~~~~~~~~~~~~~~~~~~~~~~~~~~~~~\n",
      "Shape Concept Fajas Colombianas\n",
      "~~~~~~~~~~~~~~~~~~~~~~~~~~~~~~~~~~~~~~~~~~~~~~~~~~~~~~~~~~~~~~~~~~~~~~~~~~~~~~~~\n",
      "0.2226     1  affordable prices\n",
      "[affordable prices]\n",
      "0.1956     1  Shape Concept Fajas Colombianas Premium\n",
      "[Shape Concept Fajas Colombianas Premium]\n",
      "0.1038     1  the highest quality products\n",
      "[the highest quality products]\n",
      "0.0578     1  our customers\n",
      "[our customers]\n",
      "0.0000     2  We\n",
      "[We, We]\n",
      "~~~~~~~~~~~~~~~~~~~~~~~~~~~~~~~~~~~~~~~~~~~~~~~~~~~~~~~~~~~~~~~~~~~~~~~~~~~~~~~~\n",
      "SomniFix | Gentle Mouth Strips for Better, Quieter Sleep\n",
      "~~~~~~~~~~~~~~~~~~~~~~~~~~~~~~~~~~~~~~~~~~~~~~~~~~~~~~~~~~~~~~~~~~~~~~~~~~~~~~~~\n",
      "0.2058     1  partner sleep disruption\n",
      "[partner sleep disruption]\n",
      "0.1821     3  sleep\n",
      "[sleep, sleep, sleep]\n",
      "0.1654     1  dry mouth\n",
      "[dry mouth]\n",
      "0.1503     1  Mouth breathing\n",
      "[Mouth breathing]\n",
      "0.1503     1  mouth breathing\n",
      "[mouth breathing]\n",
      "~~~~~~~~~~~~~~~~~~~~~~~~~~~~~~~~~~~~~~~~~~~~~~~~~~~~~~~~~~~~~~~~~~~~~~~~~~~~~~~~\n",
      "COMRAD | Energizing Compression Socks For Women and Men\n",
      "~~~~~~~~~~~~~~~~~~~~~~~~~~~~~~~~~~~~~~~~~~~~~~~~~~~~~~~~~~~~~~~~~~~~~~~~~~~~~~~~\n",
      "0.1695     1  men\n",
      "[men]\n",
      "0.1618     1  compression socks\n",
      "[compression socks]\n",
      "0.1413     1  pain\n",
      "[pain]\n",
      "0.1321     1  varicose veins\n",
      "[varicose veins]\n",
      "0.1276     1  women\n",
      "[women]\n",
      "~~~~~~~~~~~~~~~~~~~~~~~~~~~~~~~~~~~~~~~~~~~~~~~~~~~~~~~~~~~~~~~~~~~~~~~~~~~~~~~~\n",
      "Restaurant Equipment Online | Warehouse Restaurant Deals | Warehou...\n",
      "~~~~~~~~~~~~~~~~~~~~~~~~~~~~~~~~~~~~~~~~~~~~~~~~~~~~~~~~~~~~~~~~~~~~~~~~~~~~~~~~\n",
      "0.1901     1  equipment\n",
      "[equipment]\n",
      "0.1521     1  top-notch commercial restaurant supplies\n",
      "[top-notch commercial restaurant supplies]\n",
      "0.1334     1  Merchandiser\n",
      "[Merchandiser]\n",
      "0.1248     2  Combi Ovens\n",
      "[Combi Ovens, Combi Ovens]\n",
      "0.1137     1  Warehouse Restaurant Deals\n",
      "[Warehouse Restaurant Deals]\n",
      "~~~~~~~~~~~~~~~~~~~~~~~~~~~~~~~~~~~~~~~~~~~~~~~~~~~~~~~~~~~~~~~~~~~~~~~~~~~~~~~~\n"
     ]
    }
   ],
   "source": [
    "sampled_df = shopify_desc_df.sample(n=5)\n",
    "print('~~~~~~~~~~~~~~~~~~~~~~~~~~~~~~~~~~~~~~~~~~~~~~~~~~~~~~~~~~~~~~~~~~~~~~~~~~~~~~~~')\n",
    "for site_desc, site_title in zip(sampled_df['Site Description'], sampled_df['Site Title']):\n",
    "    doc = nlp(site_desc)\n",
    "    print(site_title)\n",
    "    print('~~~~~~~~~~~~~~~~~~~~~~~~~~~~~~~~~~~~~~~~~~~~~~~~~~~~~~~~~~~~~~~~~~~~~~~~~~~~~~~~')\n",
    "    for p in doc._.phrases[:5]:\n",
    "        print('{:.4f} {:5d}  {}'.format(p.rank, p.count, p.text))\n",
    "        print(p.chunks)\n",
    "    print('~~~~~~~~~~~~~~~~~~~~~~~~~~~~~~~~~~~~~~~~~~~~~~~~~~~~~~~~~~~~~~~~~~~~~~~~~~~~~~~~')"
   ]
  },
  {
   "cell_type": "markdown",
   "metadata": {},
   "source": [
    "## Exercise: Observations\n",
    "\n",
    "What are your observations in terms of perceived:\n",
    "\n",
    "### Performance\n",
    "\n",
    "...\n",
    "\n",
    "### Model Behavior\n",
    "\n",
    "... \n",
    "\n",
    "What do you assume to be the root cause of these observations?\n",
    "\n",
    "### Potential Cause I\n",
    "...\n",
    "\n",
    "### Potential Cause II\n",
    "...\n"
   ]
  },
  {
   "cell_type": "code",
   "execution_count": null,
   "metadata": {},
   "outputs": [],
   "source": []
  }
 ],
 "metadata": {
  "kernelspec": {
   "display_name": "Python 3",
   "language": "python",
   "name": "python3"
  },
  "language_info": {
   "codemirror_mode": {
    "name": "ipython",
    "version": 3
   },
   "file_extension": ".py",
   "mimetype": "text/x-python",
   "name": "python",
   "nbconvert_exporter": "python",
   "pygments_lexer": "ipython3",
   "version": "3.8.2"
  }
 },
 "nbformat": 4,
 "nbformat_minor": 4
}
