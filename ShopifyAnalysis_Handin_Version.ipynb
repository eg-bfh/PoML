{
  "nbformat": 4,
  "nbformat_minor": 0,
  "metadata": {
    "colab": {
      "name": "ShopifyAnalysis_Handin_Version.ipynb",
      "provenance": []
    },
    "kernelspec": {
      "name": "python3",
      "display_name": "Python 3"
    },
    "accelerator": "TPU"
  },
  "cells": [
    {
      "cell_type": "markdown",
      "source": [
        "# Shopify Analysis Hand-In Notebook\n",
        "\n",
        "This notebook contains sample code and code and text fields relating to the practical project of Principles of Machine Learning. \n",
        "\n",
        "The targeted dataset consists of a scraped dump of shopify store descriptions and associated meta-data (https://www.kaggle.com/datasets/shopgram/shopify-stores-by-shopgramio).\n",
        "\n"
      ],
      "metadata": {
        "id": "ek14lRPlr8mA"
      }
    },
    {
      "cell_type": "markdown",
      "source": [
        "# Data Exploration\n",
        "\n",
        "The following cells contain code to connect a Google Drive folder and to explore the dataset. "
      ],
      "metadata": {
        "id": "6mAQqTkgs3Xp"
      }
    },
    {
      "cell_type": "markdown",
      "metadata": {
        "id": "1Ul1hNt2bH-5"
      },
      "source": [
        "## Data Loading\n",
        "\n",
        "The first step consist of loading the dataset we downloaded from Kaggle. \n",
        "It is available on the teams channel for the practical work. \n",
        "\n",
        "The lines below import the pandas library with the alias `pd`, and loads the `CSV` file into a `dataframe`."
      ]
    },
    {
      "cell_type": "code",
      "source": [
        "# Only necessary if we load from Google Drive\n",
        "from google.colab import drive\n",
        "drive.mount('/content/drive')"
      ],
      "metadata": {
        "colab": {
          "base_uri": "https://localhost:8080/",
          "height": 383
        },
        "id": "Rrg6bzw9RWNP",
        "outputId": "0d0ac3dd-8d9a-4e05-baf3-77454ff2678c"
      },
      "execution_count": 1,
      "outputs": [
        {
          "output_type": "error",
          "ename": "MessageError",
          "evalue": "ignored",
          "traceback": [
            "\u001b[0;31m---------------------------------------------------------------------------\u001b[0m",
            "\u001b[0;31mMessageError\u001b[0m                              Traceback (most recent call last)",
            "\u001b[0;32m<ipython-input-1-b74f5b0a4a61>\u001b[0m in \u001b[0;36m<module>\u001b[0;34m\u001b[0m\n\u001b[1;32m      1\u001b[0m \u001b[0;31m# Only necessary if we load from Google Drive\u001b[0m\u001b[0;34m\u001b[0m\u001b[0;34m\u001b[0m\u001b[0;34m\u001b[0m\u001b[0m\n\u001b[1;32m      2\u001b[0m \u001b[0;32mfrom\u001b[0m \u001b[0mgoogle\u001b[0m\u001b[0;34m.\u001b[0m\u001b[0mcolab\u001b[0m \u001b[0;32mimport\u001b[0m \u001b[0mdrive\u001b[0m\u001b[0;34m\u001b[0m\u001b[0;34m\u001b[0m\u001b[0m\n\u001b[0;32m----> 3\u001b[0;31m \u001b[0mdrive\u001b[0m\u001b[0;34m.\u001b[0m\u001b[0mmount\u001b[0m\u001b[0;34m(\u001b[0m\u001b[0;34m'/content/drive'\u001b[0m\u001b[0;34m)\u001b[0m\u001b[0;34m\u001b[0m\u001b[0;34m\u001b[0m\u001b[0m\n\u001b[0m",
            "\u001b[0;32m/usr/local/lib/python3.8/dist-packages/google/colab/drive.py\u001b[0m in \u001b[0;36mmount\u001b[0;34m(mountpoint, force_remount, timeout_ms, readonly)\u001b[0m\n\u001b[1;32m     99\u001b[0m \u001b[0;32mdef\u001b[0m \u001b[0mmount\u001b[0m\u001b[0;34m(\u001b[0m\u001b[0mmountpoint\u001b[0m\u001b[0;34m,\u001b[0m \u001b[0mforce_remount\u001b[0m\u001b[0;34m=\u001b[0m\u001b[0;32mFalse\u001b[0m\u001b[0;34m,\u001b[0m \u001b[0mtimeout_ms\u001b[0m\u001b[0;34m=\u001b[0m\u001b[0;36m120000\u001b[0m\u001b[0;34m,\u001b[0m \u001b[0mreadonly\u001b[0m\u001b[0;34m=\u001b[0m\u001b[0;32mFalse\u001b[0m\u001b[0;34m)\u001b[0m\u001b[0;34m:\u001b[0m\u001b[0;34m\u001b[0m\u001b[0;34m\u001b[0m\u001b[0m\n\u001b[1;32m    100\u001b[0m   \u001b[0;34m\"\"\"Mount your Google Drive at the specified mountpoint path.\"\"\"\u001b[0m\u001b[0;34m\u001b[0m\u001b[0;34m\u001b[0m\u001b[0m\n\u001b[0;32m--> 101\u001b[0;31m   return _mount(\n\u001b[0m\u001b[1;32m    102\u001b[0m       \u001b[0mmountpoint\u001b[0m\u001b[0;34m,\u001b[0m\u001b[0;34m\u001b[0m\u001b[0;34m\u001b[0m\u001b[0m\n\u001b[1;32m    103\u001b[0m       \u001b[0mforce_remount\u001b[0m\u001b[0;34m=\u001b[0m\u001b[0mforce_remount\u001b[0m\u001b[0;34m,\u001b[0m\u001b[0;34m\u001b[0m\u001b[0;34m\u001b[0m\u001b[0m\n",
            "\u001b[0;32m/usr/local/lib/python3.8/dist-packages/google/colab/drive.py\u001b[0m in \u001b[0;36m_mount\u001b[0;34m(mountpoint, force_remount, timeout_ms, ephemeral, readonly)\u001b[0m\n\u001b[1;32m    122\u001b[0m       'TBE_EPHEM_CREDS_ADDR'] if ephemeral else _os.environ['TBE_CREDS_ADDR']\n\u001b[1;32m    123\u001b[0m   \u001b[0;32mif\u001b[0m \u001b[0mephemeral\u001b[0m\u001b[0;34m:\u001b[0m\u001b[0;34m\u001b[0m\u001b[0;34m\u001b[0m\u001b[0m\n\u001b[0;32m--> 124\u001b[0;31m     _message.blocking_request(\n\u001b[0m\u001b[1;32m    125\u001b[0m         'request_auth', request={'authType': 'dfs_ephemeral'}, timeout_sec=None)\n\u001b[1;32m    126\u001b[0m \u001b[0;34m\u001b[0m\u001b[0m\n",
            "\u001b[0;32m/usr/local/lib/python3.8/dist-packages/google/colab/_message.py\u001b[0m in \u001b[0;36mblocking_request\u001b[0;34m(request_type, request, timeout_sec, parent)\u001b[0m\n\u001b[1;32m    169\u001b[0m   request_id = send_request(\n\u001b[1;32m    170\u001b[0m       request_type, request, parent=parent, expect_reply=True)\n\u001b[0;32m--> 171\u001b[0;31m   \u001b[0;32mreturn\u001b[0m \u001b[0mread_reply_from_input\u001b[0m\u001b[0;34m(\u001b[0m\u001b[0mrequest_id\u001b[0m\u001b[0;34m,\u001b[0m \u001b[0mtimeout_sec\u001b[0m\u001b[0;34m)\u001b[0m\u001b[0;34m\u001b[0m\u001b[0;34m\u001b[0m\u001b[0m\n\u001b[0m",
            "\u001b[0;32m/usr/local/lib/python3.8/dist-packages/google/colab/_message.py\u001b[0m in \u001b[0;36mread_reply_from_input\u001b[0;34m(message_id, timeout_sec)\u001b[0m\n\u001b[1;32m    100\u001b[0m         reply.get('colab_msg_id') == message_id):\n\u001b[1;32m    101\u001b[0m       \u001b[0;32mif\u001b[0m \u001b[0;34m'error'\u001b[0m \u001b[0;32min\u001b[0m \u001b[0mreply\u001b[0m\u001b[0;34m:\u001b[0m\u001b[0;34m\u001b[0m\u001b[0;34m\u001b[0m\u001b[0m\n\u001b[0;32m--> 102\u001b[0;31m         \u001b[0;32mraise\u001b[0m \u001b[0mMessageError\u001b[0m\u001b[0;34m(\u001b[0m\u001b[0mreply\u001b[0m\u001b[0;34m[\u001b[0m\u001b[0;34m'error'\u001b[0m\u001b[0;34m]\u001b[0m\u001b[0;34m)\u001b[0m\u001b[0;34m\u001b[0m\u001b[0;34m\u001b[0m\u001b[0m\n\u001b[0m\u001b[1;32m    103\u001b[0m       \u001b[0;32mreturn\u001b[0m \u001b[0mreply\u001b[0m\u001b[0;34m.\u001b[0m\u001b[0mget\u001b[0m\u001b[0;34m(\u001b[0m\u001b[0;34m'data'\u001b[0m\u001b[0;34m,\u001b[0m \u001b[0;32mNone\u001b[0m\u001b[0;34m)\u001b[0m\u001b[0;34m\u001b[0m\u001b[0;34m\u001b[0m\u001b[0m\n\u001b[1;32m    104\u001b[0m \u001b[0;34m\u001b[0m\u001b[0m\n",
            "\u001b[0;31mMessageError\u001b[0m: Error: credential propagation was unsuccessful"
          ]
        }
      ]
    },
    {
      "cell_type": "code",
      "source": [
        "!wget -O stores_data_UTF8.csv  https://drive.switch.ch/index.php/s/mvOKN47CFmlSi2S/download"
      ],
      "metadata": {
        "id": "205TvoSQ_iF9",
        "outputId": "bc127fb5-7180-406c-ab47-cbd06ef6d32d",
        "colab": {
          "base_uri": "https://localhost:8080/"
        }
      },
      "execution_count": 2,
      "outputs": [
        {
          "output_type": "stream",
          "name": "stdout",
          "text": [
            "--2022-12-20 14:26:14--  https://drive.switch.ch/index.php/s/mvOKN47CFmlSi2S/download\n",
            "Resolving drive.switch.ch (drive.switch.ch)... 86.119.34.137, 86.119.34.138, 2001:620:5ca1:1ee::11, ...\n",
            "Connecting to drive.switch.ch (drive.switch.ch)|86.119.34.137|:443... connected.\n",
            "HTTP request sent, awaiting response... 200 OK\n",
            "Length: 260322878 (248M) [text/csv]\n",
            "Saving to: ‘stores_data_UTF8.csv’\n",
            "\n",
            "stores_data_UTF8.cs 100%[===================>] 248.26M  18.5MB/s    in 16s     \n",
            "\n",
            "2022-12-20 14:26:35 (15.6 MB/s) - ‘stores_data_UTF8.csv’ saved [260322878/260322878]\n",
            "\n"
          ]
        }
      ]
    },
    {
      "cell_type": "code",
      "metadata": {
        "id": "YRVFtLLgZAGi"
      },
      "source": [
        "import pandas as pd\n",
        "df = pd.read_csv('./stores_data_UTF8.csv', lineterminator=\"\\n\")"
      ],
      "execution_count": 13,
      "outputs": []
    },
    {
      "cell_type": "markdown",
      "metadata": {
        "id": "MX4P65l-bXHT"
      },
      "source": [
        "## Dataframe Exploration\n",
        "\n",
        "It is usually a good idea to explore the `dataframe` after loading in order to better understand the data, and to make sure the loading worked as expected."
      ]
    },
    {
      "cell_type": "code",
      "metadata": {
        "colab": {
          "base_uri": "https://localhost:8080/"
        },
        "id": "yMgUIkwfkzJW",
        "outputId": "6695c445-46f8-4c03-887f-6f0cc40960fe"
      },
      "source": [
        "# This shows us the column labels in the dataframe.\n",
        "df.columns"
      ],
      "execution_count": 4,
      "outputs": [
        {
          "output_type": "execute_result",
          "data": {
            "text/plain": [
              "Index(['Unnamed: 0', 'store_title', 'store_description', 'store_collections',\n",
              "       'store_labels'],\n",
              "      dtype='object')"
            ]
          },
          "metadata": {},
          "execution_count": 4
        }
      ]
    },
    {
      "cell_type": "code",
      "metadata": {
        "colab": {
          "base_uri": "https://localhost:8080/"
        },
        "id": "RVrYYOtPaWmB",
        "outputId": "c5b29d78-a98e-4134-8b15-7c3cbc371ac1"
      },
      "source": [
        "# The value counts function is a good way to get an overview of the values contained in a column by frequency (the most common and least common values are shown below).\n",
        "df['store_title'].value_counts()"
      ],
      "execution_count": 5,
      "outputs": [
        {
          "output_type": "execute_result",
          "data": {
            "text/plain": [
              "Home                                                                                    816\n",
              "Create an Ecommerce Website and Sell Online! Ecommerce Software by Shopify              173\n",
              "Home Page                                                                               117\n",
              "Welcome                                                                                 106\n",
              "403 Forbidden                                                                           105\n",
              "                                                                                       ... \n",
              "       Original Ink Cartridges at Low Prices with FREE Delivery!  — Cartridge King        1\n",
              "Holeshot Moto                                                                             1\n",
              "Up to 70% off | Huge Discounts | Everything Kitchen                                       1\n",
              "#FYMP! For Your Mind's Peace !                                                            1\n",
              "Authenticity50 Honest Made in USA Sheets, Pillows, Comforters & Towels                    1\n",
              "Name: store_title, Length: 603975, dtype: int64"
            ]
          },
          "metadata": {},
          "execution_count": 5
        }
      ]
    },
    {
      "cell_type": "code",
      "metadata": {
        "colab": {
          "base_uri": "https://localhost:8080/",
          "height": 175
        },
        "id": "YTexsJffnZ-z",
        "outputId": "cf76c7da-9b62-4957-8ef5-43f10f2b9061"
      },
      "source": [
        "# The describe function prints some basic descriptive stats on the columns in the dataframe (e.g. number of values, number of unique values. )\n",
        "df.describe()"
      ],
      "execution_count": 6,
      "outputs": [
        {
          "output_type": "execute_result",
          "data": {
            "text/plain": [
              "       Unnamed: 0 store_title store_description store_collections store_labels\n",
              "count      620863      618575            593365            539469       617969\n",
              "unique     619971      603975            580417            506295       170216\n",
              "top                      Home                []         frontpage           []\n",
              "freq          361         816               251             10530       195740"
            ],
            "text/html": [
              "\n",
              "  <div id=\"df-f7f8a4b8-fb07-4740-80cc-eb9965d994a7\">\n",
              "    <div class=\"colab-df-container\">\n",
              "      <div>\n",
              "<style scoped>\n",
              "    .dataframe tbody tr th:only-of-type {\n",
              "        vertical-align: middle;\n",
              "    }\n",
              "\n",
              "    .dataframe tbody tr th {\n",
              "        vertical-align: top;\n",
              "    }\n",
              "\n",
              "    .dataframe thead th {\n",
              "        text-align: right;\n",
              "    }\n",
              "</style>\n",
              "<table border=\"1\" class=\"dataframe\">\n",
              "  <thead>\n",
              "    <tr style=\"text-align: right;\">\n",
              "      <th></th>\n",
              "      <th>Unnamed: 0</th>\n",
              "      <th>store_title</th>\n",
              "      <th>store_description</th>\n",
              "      <th>store_collections</th>\n",
              "      <th>store_labels</th>\n",
              "    </tr>\n",
              "  </thead>\n",
              "  <tbody>\n",
              "    <tr>\n",
              "      <th>count</th>\n",
              "      <td>620863</td>\n",
              "      <td>618575</td>\n",
              "      <td>593365</td>\n",
              "      <td>539469</td>\n",
              "      <td>617969</td>\n",
              "    </tr>\n",
              "    <tr>\n",
              "      <th>unique</th>\n",
              "      <td>619971</td>\n",
              "      <td>603975</td>\n",
              "      <td>580417</td>\n",
              "      <td>506295</td>\n",
              "      <td>170216</td>\n",
              "    </tr>\n",
              "    <tr>\n",
              "      <th>top</th>\n",
              "      <td></td>\n",
              "      <td>Home</td>\n",
              "      <td>[]</td>\n",
              "      <td>frontpage</td>\n",
              "      <td>[]</td>\n",
              "    </tr>\n",
              "    <tr>\n",
              "      <th>freq</th>\n",
              "      <td>361</td>\n",
              "      <td>816</td>\n",
              "      <td>251</td>\n",
              "      <td>10530</td>\n",
              "      <td>195740</td>\n",
              "    </tr>\n",
              "  </tbody>\n",
              "</table>\n",
              "</div>\n",
              "      <button class=\"colab-df-convert\" onclick=\"convertToInteractive('df-f7f8a4b8-fb07-4740-80cc-eb9965d994a7')\"\n",
              "              title=\"Convert this dataframe to an interactive table.\"\n",
              "              style=\"display:none;\">\n",
              "        \n",
              "  <svg xmlns=\"http://www.w3.org/2000/svg\" height=\"24px\"viewBox=\"0 0 24 24\"\n",
              "       width=\"24px\">\n",
              "    <path d=\"M0 0h24v24H0V0z\" fill=\"none\"/>\n",
              "    <path d=\"M18.56 5.44l.94 2.06.94-2.06 2.06-.94-2.06-.94-.94-2.06-.94 2.06-2.06.94zm-11 1L8.5 8.5l.94-2.06 2.06-.94-2.06-.94L8.5 2.5l-.94 2.06-2.06.94zm10 10l.94 2.06.94-2.06 2.06-.94-2.06-.94-.94-2.06-.94 2.06-2.06.94z\"/><path d=\"M17.41 7.96l-1.37-1.37c-.4-.4-.92-.59-1.43-.59-.52 0-1.04.2-1.43.59L10.3 9.45l-7.72 7.72c-.78.78-.78 2.05 0 2.83L4 21.41c.39.39.9.59 1.41.59.51 0 1.02-.2 1.41-.59l7.78-7.78 2.81-2.81c.8-.78.8-2.07 0-2.86zM5.41 20L4 18.59l7.72-7.72 1.47 1.35L5.41 20z\"/>\n",
              "  </svg>\n",
              "      </button>\n",
              "      \n",
              "  <style>\n",
              "    .colab-df-container {\n",
              "      display:flex;\n",
              "      flex-wrap:wrap;\n",
              "      gap: 12px;\n",
              "    }\n",
              "\n",
              "    .colab-df-convert {\n",
              "      background-color: #E8F0FE;\n",
              "      border: none;\n",
              "      border-radius: 50%;\n",
              "      cursor: pointer;\n",
              "      display: none;\n",
              "      fill: #1967D2;\n",
              "      height: 32px;\n",
              "      padding: 0 0 0 0;\n",
              "      width: 32px;\n",
              "    }\n",
              "\n",
              "    .colab-df-convert:hover {\n",
              "      background-color: #E2EBFA;\n",
              "      box-shadow: 0px 1px 2px rgba(60, 64, 67, 0.3), 0px 1px 3px 1px rgba(60, 64, 67, 0.15);\n",
              "      fill: #174EA6;\n",
              "    }\n",
              "\n",
              "    [theme=dark] .colab-df-convert {\n",
              "      background-color: #3B4455;\n",
              "      fill: #D2E3FC;\n",
              "    }\n",
              "\n",
              "    [theme=dark] .colab-df-convert:hover {\n",
              "      background-color: #434B5C;\n",
              "      box-shadow: 0px 1px 3px 1px rgba(0, 0, 0, 0.15);\n",
              "      filter: drop-shadow(0px 1px 2px rgba(0, 0, 0, 0.3));\n",
              "      fill: #FFFFFF;\n",
              "    }\n",
              "  </style>\n",
              "\n",
              "      <script>\n",
              "        const buttonEl =\n",
              "          document.querySelector('#df-f7f8a4b8-fb07-4740-80cc-eb9965d994a7 button.colab-df-convert');\n",
              "        buttonEl.style.display =\n",
              "          google.colab.kernel.accessAllowed ? 'block' : 'none';\n",
              "\n",
              "        async function convertToInteractive(key) {\n",
              "          const element = document.querySelector('#df-f7f8a4b8-fb07-4740-80cc-eb9965d994a7');\n",
              "          const dataTable =\n",
              "            await google.colab.kernel.invokeFunction('convertToInteractive',\n",
              "                                                     [key], {});\n",
              "          if (!dataTable) return;\n",
              "\n",
              "          const docLinkHtml = 'Like what you see? Visit the ' +\n",
              "            '<a target=\"_blank\" href=https://colab.research.google.com/notebooks/data_table.ipynb>data table notebook</a>'\n",
              "            + ' to learn more about interactive tables.';\n",
              "          element.innerHTML = '';\n",
              "          dataTable['output_type'] = 'display_data';\n",
              "          await google.colab.output.renderOutput(dataTable, element);\n",
              "          const docLink = document.createElement('div');\n",
              "          docLink.innerHTML = docLinkHtml;\n",
              "          element.appendChild(docLink);\n",
              "        }\n",
              "      </script>\n",
              "    </div>\n",
              "  </div>\n",
              "  "
            ]
          },
          "metadata": {},
          "execution_count": 6
        }
      ]
    },
    {
      "cell_type": "code",
      "metadata": {
        "id": "9OKcsFVcdrCn",
        "colab": {
          "base_uri": "https://localhost:8080/",
          "height": 372
        },
        "outputId": "2b1f4de3-1378-4fe6-90fd-4dc8a63cb0f8"
      },
      "source": [
        "# The tail() function allows us to look at the last entries in the dataframe. The head() function shows us the top entries in the dataframe.\n",
        "df.head()"
      ],
      "execution_count": 7,
      "outputs": [
        {
          "output_type": "execute_result",
          "data": {
            "text/plain": [
              "  Unnamed: 0                                        store_title  \\\n",
              "0          0                                         Easestudio   \n",
              "1          1                    Mason - Super Thin iPhone Cases   \n",
              "2          2  Chictypeaccessoires | accessoires mode homme b...   \n",
              "3          3                                  Le Corps Fitness    \n",
              "4          4                                    Womens fashions   \n",
              "\n",
              "                                   store_description  \\\n",
              "0                                                NaN   \n",
              "1  The original super thin iPhone cases that perf...   \n",
              "2  La boutique Chic Type est votre boutique d'acc...   \n",
              "3                                  Le Corps Fitness    \n",
              "4                                     Charming Lilly   \n",
              "\n",
              "                                   store_collections  \\\n",
              "0  festive 18, reverie festive 2019, spring summe...   \n",
              "1  iphone 11, iphone xs max, iphone x, iphone xr,...   \n",
              "2  noeud papillon, ceinture, les accessoires util...   \n",
              "3  trainers, short sets, yoga sets, reine, one pi...   \n",
              "4  charming glambam, charming accessories, swim c...   \n",
              "\n",
              "                    store_labels  \n",
              "0                             []  \n",
              "1  ['case', 'iphone', 'leather']  \n",
              "2       ['bracelet', 'boutique']  \n",
              "3                    ['fitness']  \n",
              "4                             []  "
            ],
            "text/html": [
              "\n",
              "  <div id=\"df-1918852b-a34d-4b32-ae42-4c51f7eeb3c9\">\n",
              "    <div class=\"colab-df-container\">\n",
              "      <div>\n",
              "<style scoped>\n",
              "    .dataframe tbody tr th:only-of-type {\n",
              "        vertical-align: middle;\n",
              "    }\n",
              "\n",
              "    .dataframe tbody tr th {\n",
              "        vertical-align: top;\n",
              "    }\n",
              "\n",
              "    .dataframe thead th {\n",
              "        text-align: right;\n",
              "    }\n",
              "</style>\n",
              "<table border=\"1\" class=\"dataframe\">\n",
              "  <thead>\n",
              "    <tr style=\"text-align: right;\">\n",
              "      <th></th>\n",
              "      <th>Unnamed: 0</th>\n",
              "      <th>store_title</th>\n",
              "      <th>store_description</th>\n",
              "      <th>store_collections</th>\n",
              "      <th>store_labels</th>\n",
              "    </tr>\n",
              "  </thead>\n",
              "  <tbody>\n",
              "    <tr>\n",
              "      <th>0</th>\n",
              "      <td>0</td>\n",
              "      <td>Easestudio</td>\n",
              "      <td>NaN</td>\n",
              "      <td>festive 18, reverie festive 2019, spring summe...</td>\n",
              "      <td>[]</td>\n",
              "    </tr>\n",
              "    <tr>\n",
              "      <th>1</th>\n",
              "      <td>1</td>\n",
              "      <td>Mason - Super Thin iPhone Cases</td>\n",
              "      <td>The original super thin iPhone cases that perf...</td>\n",
              "      <td>iphone 11, iphone xs max, iphone x, iphone xr,...</td>\n",
              "      <td>['case', 'iphone', 'leather']</td>\n",
              "    </tr>\n",
              "    <tr>\n",
              "      <th>2</th>\n",
              "      <td>2</td>\n",
              "      <td>Chictypeaccessoires | accessoires mode homme b...</td>\n",
              "      <td>La boutique Chic Type est votre boutique d'acc...</td>\n",
              "      <td>noeud papillon, ceinture, les accessoires util...</td>\n",
              "      <td>['bracelet', 'boutique']</td>\n",
              "    </tr>\n",
              "    <tr>\n",
              "      <th>3</th>\n",
              "      <td>3</td>\n",
              "      <td>Le Corps Fitness</td>\n",
              "      <td>Le Corps Fitness</td>\n",
              "      <td>trainers, short sets, yoga sets, reine, one pi...</td>\n",
              "      <td>['fitness']</td>\n",
              "    </tr>\n",
              "    <tr>\n",
              "      <th>4</th>\n",
              "      <td>4</td>\n",
              "      <td>Womens fashions</td>\n",
              "      <td>Charming Lilly</td>\n",
              "      <td>charming glambam, charming accessories, swim c...</td>\n",
              "      <td>[]</td>\n",
              "    </tr>\n",
              "  </tbody>\n",
              "</table>\n",
              "</div>\n",
              "      <button class=\"colab-df-convert\" onclick=\"convertToInteractive('df-1918852b-a34d-4b32-ae42-4c51f7eeb3c9')\"\n",
              "              title=\"Convert this dataframe to an interactive table.\"\n",
              "              style=\"display:none;\">\n",
              "        \n",
              "  <svg xmlns=\"http://www.w3.org/2000/svg\" height=\"24px\"viewBox=\"0 0 24 24\"\n",
              "       width=\"24px\">\n",
              "    <path d=\"M0 0h24v24H0V0z\" fill=\"none\"/>\n",
              "    <path d=\"M18.56 5.44l.94 2.06.94-2.06 2.06-.94-2.06-.94-.94-2.06-.94 2.06-2.06.94zm-11 1L8.5 8.5l.94-2.06 2.06-.94-2.06-.94L8.5 2.5l-.94 2.06-2.06.94zm10 10l.94 2.06.94-2.06 2.06-.94-2.06-.94-.94-2.06-.94 2.06-2.06.94z\"/><path d=\"M17.41 7.96l-1.37-1.37c-.4-.4-.92-.59-1.43-.59-.52 0-1.04.2-1.43.59L10.3 9.45l-7.72 7.72c-.78.78-.78 2.05 0 2.83L4 21.41c.39.39.9.59 1.41.59.51 0 1.02-.2 1.41-.59l7.78-7.78 2.81-2.81c.8-.78.8-2.07 0-2.86zM5.41 20L4 18.59l7.72-7.72 1.47 1.35L5.41 20z\"/>\n",
              "  </svg>\n",
              "      </button>\n",
              "      \n",
              "  <style>\n",
              "    .colab-df-container {\n",
              "      display:flex;\n",
              "      flex-wrap:wrap;\n",
              "      gap: 12px;\n",
              "    }\n",
              "\n",
              "    .colab-df-convert {\n",
              "      background-color: #E8F0FE;\n",
              "      border: none;\n",
              "      border-radius: 50%;\n",
              "      cursor: pointer;\n",
              "      display: none;\n",
              "      fill: #1967D2;\n",
              "      height: 32px;\n",
              "      padding: 0 0 0 0;\n",
              "      width: 32px;\n",
              "    }\n",
              "\n",
              "    .colab-df-convert:hover {\n",
              "      background-color: #E2EBFA;\n",
              "      box-shadow: 0px 1px 2px rgba(60, 64, 67, 0.3), 0px 1px 3px 1px rgba(60, 64, 67, 0.15);\n",
              "      fill: #174EA6;\n",
              "    }\n",
              "\n",
              "    [theme=dark] .colab-df-convert {\n",
              "      background-color: #3B4455;\n",
              "      fill: #D2E3FC;\n",
              "    }\n",
              "\n",
              "    [theme=dark] .colab-df-convert:hover {\n",
              "      background-color: #434B5C;\n",
              "      box-shadow: 0px 1px 3px 1px rgba(0, 0, 0, 0.15);\n",
              "      filter: drop-shadow(0px 1px 2px rgba(0, 0, 0, 0.3));\n",
              "      fill: #FFFFFF;\n",
              "    }\n",
              "  </style>\n",
              "\n",
              "      <script>\n",
              "        const buttonEl =\n",
              "          document.querySelector('#df-1918852b-a34d-4b32-ae42-4c51f7eeb3c9 button.colab-df-convert');\n",
              "        buttonEl.style.display =\n",
              "          google.colab.kernel.accessAllowed ? 'block' : 'none';\n",
              "\n",
              "        async function convertToInteractive(key) {\n",
              "          const element = document.querySelector('#df-1918852b-a34d-4b32-ae42-4c51f7eeb3c9');\n",
              "          const dataTable =\n",
              "            await google.colab.kernel.invokeFunction('convertToInteractive',\n",
              "                                                     [key], {});\n",
              "          if (!dataTable) return;\n",
              "\n",
              "          const docLinkHtml = 'Like what you see? Visit the ' +\n",
              "            '<a target=\"_blank\" href=https://colab.research.google.com/notebooks/data_table.ipynb>data table notebook</a>'\n",
              "            + ' to learn more about interactive tables.';\n",
              "          element.innerHTML = '';\n",
              "          dataTable['output_type'] = 'display_data';\n",
              "          await google.colab.output.renderOutput(dataTable, element);\n",
              "          const docLink = document.createElement('div');\n",
              "          docLink.innerHTML = docLinkHtml;\n",
              "          element.appendChild(docLink);\n",
              "        }\n",
              "      </script>\n",
              "    </div>\n",
              "  </div>\n",
              "  "
            ]
          },
          "metadata": {},
          "execution_count": 7
        }
      ]
    },
    {
      "cell_type": "markdown",
      "source": [
        "# Training Dataset Creation"
      ],
      "metadata": {
        "id": "45oELKWBtQXg"
      }
    },
    {
      "cell_type": "markdown",
      "metadata": {
        "id": "gr9P0f5Xd_yo"
      },
      "source": [
        "## Data Pre-Processing \n",
        "\n",
        "It is often necessary to do some form of pre-procesing of the data.\n",
        "\n",
        "This can become necesary in order to handle `null` values, deal with wrong data types, or make sure that data is encoded consistently in the same format. "
      ]
    },
    {
      "cell_type": "code",
      "metadata": {
        "colab": {
          "base_uri": "https://localhost:8080/"
        },
        "id": "NQS6VYqpfMgY",
        "outputId": "d121f990-c4f8-459e-f70f-d45f3d222022"
      },
      "source": [
        "print(f\"There are {df['store_title'].isnull().sum()} null values in the 'store_title' column and {df['store_description'].isnull().sum()} null values in the 'store_description' column\")"
      ],
      "execution_count": 8,
      "outputs": [
        {
          "output_type": "stream",
          "name": "stdout",
          "text": [
            "There are 2288 null values in the 'store_title' column and 27498 null values in the 'store_description' column\n"
          ]
        }
      ]
    },
    {
      "cell_type": "code",
      "metadata": {
        "id": "VurJlP-5n_bg"
      },
      "source": [
        "# This replaces the null values with an empty string.\n",
        "df['store_labels'].fillna(\"\", inplace=True)\n",
        "df['store_description'].fillna(\"\", inplace=True)"
      ],
      "execution_count": 9,
      "outputs": []
    },
    {
      "cell_type": "markdown",
      "metadata": {
        "id": "Zm7ErUWygYP4"
      },
      "source": [
        "## Semi-Supervised Label Creation\n",
        "\n",
        "The first step to build a classifier for our targeted categories consists of creating labels. \n",
        "\n",
        "In order to train our machine learning system that is expected to be able to classify shops based on their `store_description` or the content of the `store_collections` field, we need to label the rows in the dataframe.\n",
        "\n",
        "The cell below shows a simple approach to do this based on using the existing `store_labels`.\n",
        "* We define our set of `ml categories` and assign an integer to each of these categories\n",
        "* We collect keywords that we believe to match each of our target categories\n",
        "* If the `store_labels` of a shop contain one of these keywords we will assign the respective integer label of the category.\n",
        "* Finally, we assign a label representing all unmatched rows."
      ]
    },
    {
      "cell_type": "code",
      "metadata": {
        "colab": {
          "base_uri": "https://localhost:8080/",
          "height": 1000
        },
        "id": "DLewCqeqk8MY",
        "outputId": "8dacd559-9fe2-4af3-d3b6-526c99676410"
      },
      "source": [
        "import pandas as pd\n",
        "df = pd.read_csv('./stores_data_UTF8.csv', lineterminator=\"\\n\")\n",
        "# In this example I assign the following ints to each category\n",
        "# jewelry = 1\n",
        "# phone_accessories = 2\n",
        "\n",
        "# I use the following (very limited) selection of keywords for the two categories\n",
        "labels_class1 = [r\"\\bad&d\", r\"\\bmonopoly\"]\n",
        "labels_class2 = ['case', 'iphone', 'accessories', 'samsung', 'android', 'sleeve']\n",
        "\n",
        "\n",
        "# In order to match these categories I use the following code. If any of the \n",
        "# listed keywords is contained in the store_labels field it will be labeled with \n",
        "# the category in the new column ml_labels\n",
        "df.loc[df.store_collections.str.contains('|'.join(labels_class1), case = False, na = False), 'ml_labels'] = 1\n",
        "df.loc[df.store_labels.str.contains('|'.join(labels_class2), case = False, na = False), 'ml_labels'] = 2\n",
        "\n",
        "\n",
        "# After having labeled all our matching rows we label all remaining rows with an\n",
        "# int representing all the other categories.\n",
        "df['ml_labels'] = df['ml_labels'].where((df['ml_labels'].isin([1,2])), other=100)\n",
        "\n",
        "# To have a quick check we can use the head() or tail() command and see if we\n",
        "# have matches.\n",
        "df.head(n=20)"
      ],
      "execution_count": 14,
      "outputs": [
        {
          "output_type": "execute_result",
          "data": {
            "text/plain": [
              "   Unnamed: 0                                        store_title  \\\n",
              "0           0                                         Easestudio   \n",
              "1           1                    Mason - Super Thin iPhone Cases   \n",
              "2           2  Chictypeaccessoires | accessoires mode homme b...   \n",
              "3           3                                  Le Corps Fitness    \n",
              "4           4                                    Womens fashions   \n",
              "5           5                                     American Jewel   \n",
              "6           6  Eurofit Autocentres Tyres, Brakes, MOT, Servic...   \n",
              "7           7                                  Anita B Spa Store   \n",
              "8           8  Ana illueca. Ceramics with Valencia character....   \n",
              "9           9                                            Speezys   \n",
              "10         10                                   Nana Nails Store   \n",
              "11         11                  Soportes para gel hidroalcohólico   \n",
              "12         12                                 Normcore Fragrance   \n",
              "13         13                                     lucidautowerks   \n",
              "14         14              Yoni Eggs- The secret Feminine weapon   \n",
              "15         15                                     Weenie Warmers   \n",
              "16         16                                Felicidade boutique   \n",
              "17         17  Foscam® Official Store - Home & Business Secur...   \n",
              "18         18       Promeate - Shopify Expert & Digital Marketer   \n",
              "19         19                                  Spray Bike Europe   \n",
              "\n",
              "                                    store_description  \\\n",
              "0                                                 NaN   \n",
              "1   The original super thin iPhone cases that perf...   \n",
              "2   La boutique Chic Type est votre boutique d'acc...   \n",
              "3                                   Le Corps Fitness    \n",
              "4                                      Charming Lilly   \n",
              "5   American Jewel Accessories, Bags & Beauty for ...   \n",
              "6   Eurofit Autocentres are a vehicle repair group...   \n",
              "7                                                 NaN   \n",
              "8   Ceramics with Valencia character. Plates, vase...   \n",
              "9   Speezys Stylish Kaftan Wear. Dutch brand Speez...   \n",
              "10                                   Nana Nails Store   \n",
              "11                                        Soporte Gel   \n",
              "12  Normcore fragrance housing some of the most un...   \n",
              "13                                     lucidautowerks   \n",
              "14       Tone and rejuvenate your yoni all naturally!   \n",
              "15  The Original Snuggle Sack for dogs who like to...   \n",
              "16                                Felicidade boutique   \n",
              "17  Huge Range Of Indoor & Outdoor Security Camera...   \n",
              "18  Promeate is an eCommerce agency offering Shopi...   \n",
              "19  Spray.Bike was created out of frustration with...   \n",
              "\n",
              "                                    store_collections  \\\n",
              "0   festive 18, reverie festive 2019, spring summe...   \n",
              "1   iphone 11, iphone xs max, iphone x, iphone xr,...   \n",
              "2   noeud papillon, ceinture, les accessoires util...   \n",
              "3   trainers, short sets, yoga sets, reine, one pi...   \n",
              "4   charming glambam, charming accessories, swim c...   \n",
              "5   sale, yummy gummy purses, party bags, jewels, ...   \n",
              "6                                                 NaN   \n",
              "7   serum, toners, treatments, eyes, correctives, ...   \n",
              "8                                                 NaN   \n",
              "9                        speezys kaftan onesize s m l   \n",
              "10  printed, cow, minamalist, giftcard, simple, re...   \n",
              "11      soportes dispensador gel, gel hidroalcoholico   \n",
              "12  incense burner, perfume oil, incense matches, ...   \n",
              "13  electrical, ultimate manual tire changer, acce...   \n",
              "14                                                NaN   \n",
              "15  fun stuff, the halloweenie costume shop, gifts...   \n",
              "16  orgonite, massage, meilleures ventes bijoux, c...   \n",
              "17  indoor camera, deals, best seller, bogo, acces...   \n",
              "18                                                NaN   \n",
              "19  vendors, trending, all products colour spectru...   \n",
              "\n",
              "                                         store_labels  ml_labels  \n",
              "0                                                  []      100.0  \n",
              "1                       ['case', 'iphone', 'leather']        2.0  \n",
              "2                            ['bracelet', 'boutique']      100.0  \n",
              "3                                         ['fitness']      100.0  \n",
              "4                                                  []      100.0  \n",
              "5                                   ['beauty', 'bag']      100.0  \n",
              "6                                                  []      100.0  \n",
              "7                                                  []      100.0  \n",
              "8                                         ['ceramic']      100.0  \n",
              "9                                                  []      100.0  \n",
              "10                                           ['nail']      100.0  \n",
              "11                                            ['gel']      100.0  \n",
              "12                           ['incense', 'fragrance']      100.0  \n",
              "13                                                 []      100.0  \n",
              "14                                                 []      100.0  \n",
              "15                         ['dog', 'blanket', 'gift']      100.0  \n",
              "16                                       ['boutique']      100.0  \n",
              "17  ['indoor', 'security', 'camera', 'home', 'busi...      100.0  \n",
              "18                                                 []      100.0  \n",
              "19                                  ['bike', 'spray']      100.0  "
            ],
            "text/html": [
              "\n",
              "  <div id=\"df-e53b836d-89b5-4d9e-8439-4c8b6c2404b1\">\n",
              "    <div class=\"colab-df-container\">\n",
              "      <div>\n",
              "<style scoped>\n",
              "    .dataframe tbody tr th:only-of-type {\n",
              "        vertical-align: middle;\n",
              "    }\n",
              "\n",
              "    .dataframe tbody tr th {\n",
              "        vertical-align: top;\n",
              "    }\n",
              "\n",
              "    .dataframe thead th {\n",
              "        text-align: right;\n",
              "    }\n",
              "</style>\n",
              "<table border=\"1\" class=\"dataframe\">\n",
              "  <thead>\n",
              "    <tr style=\"text-align: right;\">\n",
              "      <th></th>\n",
              "      <th>Unnamed: 0</th>\n",
              "      <th>store_title</th>\n",
              "      <th>store_description</th>\n",
              "      <th>store_collections</th>\n",
              "      <th>store_labels</th>\n",
              "      <th>ml_labels</th>\n",
              "    </tr>\n",
              "  </thead>\n",
              "  <tbody>\n",
              "    <tr>\n",
              "      <th>0</th>\n",
              "      <td>0</td>\n",
              "      <td>Easestudio</td>\n",
              "      <td>NaN</td>\n",
              "      <td>festive 18, reverie festive 2019, spring summe...</td>\n",
              "      <td>[]</td>\n",
              "      <td>100.0</td>\n",
              "    </tr>\n",
              "    <tr>\n",
              "      <th>1</th>\n",
              "      <td>1</td>\n",
              "      <td>Mason - Super Thin iPhone Cases</td>\n",
              "      <td>The original super thin iPhone cases that perf...</td>\n",
              "      <td>iphone 11, iphone xs max, iphone x, iphone xr,...</td>\n",
              "      <td>['case', 'iphone', 'leather']</td>\n",
              "      <td>2.0</td>\n",
              "    </tr>\n",
              "    <tr>\n",
              "      <th>2</th>\n",
              "      <td>2</td>\n",
              "      <td>Chictypeaccessoires | accessoires mode homme b...</td>\n",
              "      <td>La boutique Chic Type est votre boutique d'acc...</td>\n",
              "      <td>noeud papillon, ceinture, les accessoires util...</td>\n",
              "      <td>['bracelet', 'boutique']</td>\n",
              "      <td>100.0</td>\n",
              "    </tr>\n",
              "    <tr>\n",
              "      <th>3</th>\n",
              "      <td>3</td>\n",
              "      <td>Le Corps Fitness</td>\n",
              "      <td>Le Corps Fitness</td>\n",
              "      <td>trainers, short sets, yoga sets, reine, one pi...</td>\n",
              "      <td>['fitness']</td>\n",
              "      <td>100.0</td>\n",
              "    </tr>\n",
              "    <tr>\n",
              "      <th>4</th>\n",
              "      <td>4</td>\n",
              "      <td>Womens fashions</td>\n",
              "      <td>Charming Lilly</td>\n",
              "      <td>charming glambam, charming accessories, swim c...</td>\n",
              "      <td>[]</td>\n",
              "      <td>100.0</td>\n",
              "    </tr>\n",
              "    <tr>\n",
              "      <th>5</th>\n",
              "      <td>5</td>\n",
              "      <td>American Jewel</td>\n",
              "      <td>American Jewel Accessories, Bags &amp; Beauty for ...</td>\n",
              "      <td>sale, yummy gummy purses, party bags, jewels, ...</td>\n",
              "      <td>['beauty', 'bag']</td>\n",
              "      <td>100.0</td>\n",
              "    </tr>\n",
              "    <tr>\n",
              "      <th>6</th>\n",
              "      <td>6</td>\n",
              "      <td>Eurofit Autocentres Tyres, Brakes, MOT, Servic...</td>\n",
              "      <td>Eurofit Autocentres are a vehicle repair group...</td>\n",
              "      <td>NaN</td>\n",
              "      <td>[]</td>\n",
              "      <td>100.0</td>\n",
              "    </tr>\n",
              "    <tr>\n",
              "      <th>7</th>\n",
              "      <td>7</td>\n",
              "      <td>Anita B Spa Store</td>\n",
              "      <td>NaN</td>\n",
              "      <td>serum, toners, treatments, eyes, correctives, ...</td>\n",
              "      <td>[]</td>\n",
              "      <td>100.0</td>\n",
              "    </tr>\n",
              "    <tr>\n",
              "      <th>8</th>\n",
              "      <td>8</td>\n",
              "      <td>Ana illueca. Ceramics with Valencia character....</td>\n",
              "      <td>Ceramics with Valencia character. Plates, vase...</td>\n",
              "      <td>NaN</td>\n",
              "      <td>['ceramic']</td>\n",
              "      <td>100.0</td>\n",
              "    </tr>\n",
              "    <tr>\n",
              "      <th>9</th>\n",
              "      <td>9</td>\n",
              "      <td>Speezys</td>\n",
              "      <td>Speezys Stylish Kaftan Wear. Dutch brand Speez...</td>\n",
              "      <td>speezys kaftan onesize s m l</td>\n",
              "      <td>[]</td>\n",
              "      <td>100.0</td>\n",
              "    </tr>\n",
              "    <tr>\n",
              "      <th>10</th>\n",
              "      <td>10</td>\n",
              "      <td>Nana Nails Store</td>\n",
              "      <td>Nana Nails Store</td>\n",
              "      <td>printed, cow, minamalist, giftcard, simple, re...</td>\n",
              "      <td>['nail']</td>\n",
              "      <td>100.0</td>\n",
              "    </tr>\n",
              "    <tr>\n",
              "      <th>11</th>\n",
              "      <td>11</td>\n",
              "      <td>Soportes para gel hidroalcohólico</td>\n",
              "      <td>Soporte Gel</td>\n",
              "      <td>soportes dispensador gel, gel hidroalcoholico</td>\n",
              "      <td>['gel']</td>\n",
              "      <td>100.0</td>\n",
              "    </tr>\n",
              "    <tr>\n",
              "      <th>12</th>\n",
              "      <td>12</td>\n",
              "      <td>Normcore Fragrance</td>\n",
              "      <td>Normcore fragrance housing some of the most un...</td>\n",
              "      <td>incense burner, perfume oil, incense matches, ...</td>\n",
              "      <td>['incense', 'fragrance']</td>\n",
              "      <td>100.0</td>\n",
              "    </tr>\n",
              "    <tr>\n",
              "      <th>13</th>\n",
              "      <td>13</td>\n",
              "      <td>lucidautowerks</td>\n",
              "      <td>lucidautowerks</td>\n",
              "      <td>electrical, ultimate manual tire changer, acce...</td>\n",
              "      <td>[]</td>\n",
              "      <td>100.0</td>\n",
              "    </tr>\n",
              "    <tr>\n",
              "      <th>14</th>\n",
              "      <td>14</td>\n",
              "      <td>Yoni Eggs- The secret Feminine weapon</td>\n",
              "      <td>Tone and rejuvenate your yoni all naturally!</td>\n",
              "      <td>NaN</td>\n",
              "      <td>[]</td>\n",
              "      <td>100.0</td>\n",
              "    </tr>\n",
              "    <tr>\n",
              "      <th>15</th>\n",
              "      <td>15</td>\n",
              "      <td>Weenie Warmers</td>\n",
              "      <td>The Original Snuggle Sack for dogs who like to...</td>\n",
              "      <td>fun stuff, the halloweenie costume shop, gifts...</td>\n",
              "      <td>['dog', 'blanket', 'gift']</td>\n",
              "      <td>100.0</td>\n",
              "    </tr>\n",
              "    <tr>\n",
              "      <th>16</th>\n",
              "      <td>16</td>\n",
              "      <td>Felicidade boutique</td>\n",
              "      <td>Felicidade boutique</td>\n",
              "      <td>orgonite, massage, meilleures ventes bijoux, c...</td>\n",
              "      <td>['boutique']</td>\n",
              "      <td>100.0</td>\n",
              "    </tr>\n",
              "    <tr>\n",
              "      <th>17</th>\n",
              "      <td>17</td>\n",
              "      <td>Foscam® Official Store - Home &amp; Business Secur...</td>\n",
              "      <td>Huge Range Of Indoor &amp; Outdoor Security Camera...</td>\n",
              "      <td>indoor camera, deals, best seller, bogo, acces...</td>\n",
              "      <td>['indoor', 'security', 'camera', 'home', 'busi...</td>\n",
              "      <td>100.0</td>\n",
              "    </tr>\n",
              "    <tr>\n",
              "      <th>18</th>\n",
              "      <td>18</td>\n",
              "      <td>Promeate - Shopify Expert &amp; Digital Marketer</td>\n",
              "      <td>Promeate is an eCommerce agency offering Shopi...</td>\n",
              "      <td>NaN</td>\n",
              "      <td>[]</td>\n",
              "      <td>100.0</td>\n",
              "    </tr>\n",
              "    <tr>\n",
              "      <th>19</th>\n",
              "      <td>19</td>\n",
              "      <td>Spray Bike Europe</td>\n",
              "      <td>Spray.Bike was created out of frustration with...</td>\n",
              "      <td>vendors, trending, all products colour spectru...</td>\n",
              "      <td>['bike', 'spray']</td>\n",
              "      <td>100.0</td>\n",
              "    </tr>\n",
              "  </tbody>\n",
              "</table>\n",
              "</div>\n",
              "      <button class=\"colab-df-convert\" onclick=\"convertToInteractive('df-e53b836d-89b5-4d9e-8439-4c8b6c2404b1')\"\n",
              "              title=\"Convert this dataframe to an interactive table.\"\n",
              "              style=\"display:none;\">\n",
              "        \n",
              "  <svg xmlns=\"http://www.w3.org/2000/svg\" height=\"24px\"viewBox=\"0 0 24 24\"\n",
              "       width=\"24px\">\n",
              "    <path d=\"M0 0h24v24H0V0z\" fill=\"none\"/>\n",
              "    <path d=\"M18.56 5.44l.94 2.06.94-2.06 2.06-.94-2.06-.94-.94-2.06-.94 2.06-2.06.94zm-11 1L8.5 8.5l.94-2.06 2.06-.94-2.06-.94L8.5 2.5l-.94 2.06-2.06.94zm10 10l.94 2.06.94-2.06 2.06-.94-2.06-.94-.94-2.06-.94 2.06-2.06.94z\"/><path d=\"M17.41 7.96l-1.37-1.37c-.4-.4-.92-.59-1.43-.59-.52 0-1.04.2-1.43.59L10.3 9.45l-7.72 7.72c-.78.78-.78 2.05 0 2.83L4 21.41c.39.39.9.59 1.41.59.51 0 1.02-.2 1.41-.59l7.78-7.78 2.81-2.81c.8-.78.8-2.07 0-2.86zM5.41 20L4 18.59l7.72-7.72 1.47 1.35L5.41 20z\"/>\n",
              "  </svg>\n",
              "      </button>\n",
              "      \n",
              "  <style>\n",
              "    .colab-df-container {\n",
              "      display:flex;\n",
              "      flex-wrap:wrap;\n",
              "      gap: 12px;\n",
              "    }\n",
              "\n",
              "    .colab-df-convert {\n",
              "      background-color: #E8F0FE;\n",
              "      border: none;\n",
              "      border-radius: 50%;\n",
              "      cursor: pointer;\n",
              "      display: none;\n",
              "      fill: #1967D2;\n",
              "      height: 32px;\n",
              "      padding: 0 0 0 0;\n",
              "      width: 32px;\n",
              "    }\n",
              "\n",
              "    .colab-df-convert:hover {\n",
              "      background-color: #E2EBFA;\n",
              "      box-shadow: 0px 1px 2px rgba(60, 64, 67, 0.3), 0px 1px 3px 1px rgba(60, 64, 67, 0.15);\n",
              "      fill: #174EA6;\n",
              "    }\n",
              "\n",
              "    [theme=dark] .colab-df-convert {\n",
              "      background-color: #3B4455;\n",
              "      fill: #D2E3FC;\n",
              "    }\n",
              "\n",
              "    [theme=dark] .colab-df-convert:hover {\n",
              "      background-color: #434B5C;\n",
              "      box-shadow: 0px 1px 3px 1px rgba(0, 0, 0, 0.15);\n",
              "      filter: drop-shadow(0px 1px 2px rgba(0, 0, 0, 0.3));\n",
              "      fill: #FFFFFF;\n",
              "    }\n",
              "  </style>\n",
              "\n",
              "      <script>\n",
              "        const buttonEl =\n",
              "          document.querySelector('#df-e53b836d-89b5-4d9e-8439-4c8b6c2404b1 button.colab-df-convert');\n",
              "        buttonEl.style.display =\n",
              "          google.colab.kernel.accessAllowed ? 'block' : 'none';\n",
              "\n",
              "        async function convertToInteractive(key) {\n",
              "          const element = document.querySelector('#df-e53b836d-89b5-4d9e-8439-4c8b6c2404b1');\n",
              "          const dataTable =\n",
              "            await google.colab.kernel.invokeFunction('convertToInteractive',\n",
              "                                                     [key], {});\n",
              "          if (!dataTable) return;\n",
              "\n",
              "          const docLinkHtml = 'Like what you see? Visit the ' +\n",
              "            '<a target=\"_blank\" href=https://colab.research.google.com/notebooks/data_table.ipynb>data table notebook</a>'\n",
              "            + ' to learn more about interactive tables.';\n",
              "          element.innerHTML = '';\n",
              "          dataTable['output_type'] = 'display_data';\n",
              "          await google.colab.output.renderOutput(dataTable, element);\n",
              "          const docLink = document.createElement('div');\n",
              "          docLink.innerHTML = docLinkHtml;\n",
              "          element.appendChild(docLink);\n",
              "        }\n",
              "      </script>\n",
              "    </div>\n",
              "  </div>\n",
              "  "
            ]
          },
          "metadata": {},
          "execution_count": 14
        }
      ]
    },
    {
      "cell_type": "code",
      "metadata": {
        "colab": {
          "base_uri": "https://localhost:8080/"
        },
        "id": "nmjUxh_j3sjl",
        "outputId": "0c834668-d2ac-4020-ed21-237978d2b5d9"
      },
      "source": [
        "# To see overall results of your labeling efforts, you can use the value_counts() function again.\n",
        "df['ml_labels'].value_counts()"
      ],
      "execution_count": 15,
      "outputs": [
        {
          "output_type": "execute_result",
          "data": {
            "text/plain": [
              "100.0    609514\n",
              "2.0       11286\n",
              "1.0          63\n",
              "Name: ml_labels, dtype: int64"
            ]
          },
          "metadata": {},
          "execution_count": 15
        }
      ]
    },
    {
      "cell_type": "markdown",
      "source": [
        "Semi-supervised approaches to label machine learning training data are a rapidly developing fields and are big business. \n",
        "\n",
        "One of the fastest growing companies specialised on this is https://snorkel.ai/ ; a spin-off from Stanford University. \n"
      ],
      "metadata": {
        "id": "eqMdADEKtgKV"
      }
    },
    {
      "cell_type": "markdown",
      "source": [
        "### Analysing your Automatically Labeled Data"
      ],
      "metadata": {
        "id": "egT-8J8muD_A"
      }
    },
    {
      "cell_type": "code",
      "metadata": {
        "id": "FJ14KE96FG98",
        "colab": {
          "base_uri": "https://localhost:8080/",
          "height": 850
        },
        "outputId": "7393d3cd-daa1-423d-a9a6-3e1dc07f6400"
      },
      "source": [
        "# If you want to look at the individual values for a label you can use the command below.\n",
        "df.loc[df['ml_labels'] == 1.0]"
      ],
      "execution_count": 16,
      "outputs": [
        {
          "output_type": "execute_result",
          "data": {
            "text/plain": [
              "       Unnamed: 0                                        store_title  \\\n",
              "2281         2262  Soft Toys | Pocket Money Toys | Board Games | PDK   \n",
              "24945       24838                                      Archie's Toys   \n",
              "26011       25902                                     K-Swiss México   \n",
              "43088       42927  Winning Moves Shop - The Worlds Coolest Board ...   \n",
              "48394       48217         Kidmoro - Shop Your Child's Favourite Toys   \n",
              "...           ...                                                ...   \n",
              "595276     593260  Canvas Art: Motivational, Inspirational & Mode...   \n",
              "595429     593413         Játéksziget - Játékbolt és Játék Webáruház   \n",
              "595860     593843                                    Platinum Prints   \n",
              "609025     606968           Midas Touch Toys, Games And Collectables   \n",
              "609449     607389                                             KamalK   \n",
              "\n",
              "                                        store_description  \\\n",
              "2281    Buy fundraising supplies, board games, soft to...   \n",
              "24945   We specalize in all licensed toys ranging from...   \n",
              "26011                            Tenis, gorras y mochilas   \n",
              "43088   Welcome to the home of the worlds coolest game...   \n",
              "48394   Online Toy Shopping at Kidmoro Singapore ♥ ✪ E...   \n",
              "...                                                   ...   \n",
              "595276  Ikonick modern art canvases give homes, gyms, ...   \n",
              "595429  A Játéksziget.hu egy online játékbolt, ahol a ...   \n",
              "595860                                Platinum Prints LLC   \n",
              "609025           Midas Touch Toys, Games And Collectables   \n",
              "609449                                                NaN   \n",
              "\n",
              "                                        store_collections  \\\n",
              "2281    childrens jigsaw puzzles, dominoes, childrens ...   \n",
              "24945   bodysocks, marvel, wwe, board games, call of d...   \n",
              "26011   botas caballero, tenis caballero 1, lo mas ven...   \n",
              "43088   monopoly, skyrim, top trumps specials, monopol...   \n",
              "48394   monopoly, kitchen cooking and cut foods game c...   \n",
              "...                                                   ...   \n",
              "595276  eric the hip hop preacher, travel, culture, tr...   \n",
              "595429  bebijatek, brainbox es gemker tarsasok, kerti ...   \n",
              "595860  monopoly collection canvas prints, definition ...   \n",
              "609025  spongebob squarepants, monster high, models of...   \n",
              "609449  computer mobile, towels, monopoly, skylanders,...   \n",
              "\n",
              "                                             store_labels  ml_labels  \n",
              "2281    ['puzzle', 'supply', 'game', 'charity', 'garde...        1.0  \n",
              "24945           ['game', 'toy', 'doll', 'comic', 'wheel']        1.0  \n",
              "26011                                                  []        1.0  \n",
              "43088                 ['card', 'game', 'junior', 'board']        1.0  \n",
              "48394   ['sport', 'puzzle', 'play', 'game', 'toy', 'pa...        1.0  \n",
              "...                                                   ...        ...  \n",
              "595276              ['modern', 'bundle', 'art', 'canvas']        1.0  \n",
              "595429  ['sport', 'puzzle', 'wheel', 'toy', 'party', '...        1.0  \n",
              "595860                                ['print', 'canvas']        1.0  \n",
              "609025           ['car', 'game', 'toy', 'power', 'comic']        1.0  \n",
              "609449                                  ['game', 'smart']        1.0  \n",
              "\n",
              "[63 rows x 6 columns]"
            ],
            "text/html": [
              "\n",
              "  <div id=\"df-be5b0c45-ac12-4330-aefd-d5a1a2e64af9\">\n",
              "    <div class=\"colab-df-container\">\n",
              "      <div>\n",
              "<style scoped>\n",
              "    .dataframe tbody tr th:only-of-type {\n",
              "        vertical-align: middle;\n",
              "    }\n",
              "\n",
              "    .dataframe tbody tr th {\n",
              "        vertical-align: top;\n",
              "    }\n",
              "\n",
              "    .dataframe thead th {\n",
              "        text-align: right;\n",
              "    }\n",
              "</style>\n",
              "<table border=\"1\" class=\"dataframe\">\n",
              "  <thead>\n",
              "    <tr style=\"text-align: right;\">\n",
              "      <th></th>\n",
              "      <th>Unnamed: 0</th>\n",
              "      <th>store_title</th>\n",
              "      <th>store_description</th>\n",
              "      <th>store_collections</th>\n",
              "      <th>store_labels</th>\n",
              "      <th>ml_labels</th>\n",
              "    </tr>\n",
              "  </thead>\n",
              "  <tbody>\n",
              "    <tr>\n",
              "      <th>2281</th>\n",
              "      <td>2262</td>\n",
              "      <td>Soft Toys | Pocket Money Toys | Board Games | PDK</td>\n",
              "      <td>Buy fundraising supplies, board games, soft to...</td>\n",
              "      <td>childrens jigsaw puzzles, dominoes, childrens ...</td>\n",
              "      <td>['puzzle', 'supply', 'game', 'charity', 'garde...</td>\n",
              "      <td>1.0</td>\n",
              "    </tr>\n",
              "    <tr>\n",
              "      <th>24945</th>\n",
              "      <td>24838</td>\n",
              "      <td>Archie's Toys</td>\n",
              "      <td>We specalize in all licensed toys ranging from...</td>\n",
              "      <td>bodysocks, marvel, wwe, board games, call of d...</td>\n",
              "      <td>['game', 'toy', 'doll', 'comic', 'wheel']</td>\n",
              "      <td>1.0</td>\n",
              "    </tr>\n",
              "    <tr>\n",
              "      <th>26011</th>\n",
              "      <td>25902</td>\n",
              "      <td>K-Swiss México</td>\n",
              "      <td>Tenis, gorras y mochilas</td>\n",
              "      <td>botas caballero, tenis caballero 1, lo mas ven...</td>\n",
              "      <td>[]</td>\n",
              "      <td>1.0</td>\n",
              "    </tr>\n",
              "    <tr>\n",
              "      <th>43088</th>\n",
              "      <td>42927</td>\n",
              "      <td>Winning Moves Shop - The Worlds Coolest Board ...</td>\n",
              "      <td>Welcome to the home of the worlds coolest game...</td>\n",
              "      <td>monopoly, skyrim, top trumps specials, monopol...</td>\n",
              "      <td>['card', 'game', 'junior', 'board']</td>\n",
              "      <td>1.0</td>\n",
              "    </tr>\n",
              "    <tr>\n",
              "      <th>48394</th>\n",
              "      <td>48217</td>\n",
              "      <td>Kidmoro - Shop Your Child's Favourite Toys</td>\n",
              "      <td>Online Toy Shopping at Kidmoro Singapore ♥ ✪ E...</td>\n",
              "      <td>monopoly, kitchen cooking and cut foods game c...</td>\n",
              "      <td>['sport', 'puzzle', 'play', 'game', 'toy', 'pa...</td>\n",
              "      <td>1.0</td>\n",
              "    </tr>\n",
              "    <tr>\n",
              "      <th>...</th>\n",
              "      <td>...</td>\n",
              "      <td>...</td>\n",
              "      <td>...</td>\n",
              "      <td>...</td>\n",
              "      <td>...</td>\n",
              "      <td>...</td>\n",
              "    </tr>\n",
              "    <tr>\n",
              "      <th>595276</th>\n",
              "      <td>593260</td>\n",
              "      <td>Canvas Art: Motivational, Inspirational &amp; Mode...</td>\n",
              "      <td>Ikonick modern art canvases give homes, gyms, ...</td>\n",
              "      <td>eric the hip hop preacher, travel, culture, tr...</td>\n",
              "      <td>['modern', 'bundle', 'art', 'canvas']</td>\n",
              "      <td>1.0</td>\n",
              "    </tr>\n",
              "    <tr>\n",
              "      <th>595429</th>\n",
              "      <td>593413</td>\n",
              "      <td>Játéksziget - Játékbolt és Játék Webáruház</td>\n",
              "      <td>A Játéksziget.hu egy online játékbolt, ahol a ...</td>\n",
              "      <td>bebijatek, brainbox es gemker tarsasok, kerti ...</td>\n",
              "      <td>['sport', 'puzzle', 'wheel', 'toy', 'party', '...</td>\n",
              "      <td>1.0</td>\n",
              "    </tr>\n",
              "    <tr>\n",
              "      <th>595860</th>\n",
              "      <td>593843</td>\n",
              "      <td>Platinum Prints</td>\n",
              "      <td>Platinum Prints LLC</td>\n",
              "      <td>monopoly collection canvas prints, definition ...</td>\n",
              "      <td>['print', 'canvas']</td>\n",
              "      <td>1.0</td>\n",
              "    </tr>\n",
              "    <tr>\n",
              "      <th>609025</th>\n",
              "      <td>606968</td>\n",
              "      <td>Midas Touch Toys, Games And Collectables</td>\n",
              "      <td>Midas Touch Toys, Games And Collectables</td>\n",
              "      <td>spongebob squarepants, monster high, models of...</td>\n",
              "      <td>['car', 'game', 'toy', 'power', 'comic']</td>\n",
              "      <td>1.0</td>\n",
              "    </tr>\n",
              "    <tr>\n",
              "      <th>609449</th>\n",
              "      <td>607389</td>\n",
              "      <td>KamalK</td>\n",
              "      <td>NaN</td>\n",
              "      <td>computer mobile, towels, monopoly, skylanders,...</td>\n",
              "      <td>['game', 'smart']</td>\n",
              "      <td>1.0</td>\n",
              "    </tr>\n",
              "  </tbody>\n",
              "</table>\n",
              "<p>63 rows × 6 columns</p>\n",
              "</div>\n",
              "      <button class=\"colab-df-convert\" onclick=\"convertToInteractive('df-be5b0c45-ac12-4330-aefd-d5a1a2e64af9')\"\n",
              "              title=\"Convert this dataframe to an interactive table.\"\n",
              "              style=\"display:none;\">\n",
              "        \n",
              "  <svg xmlns=\"http://www.w3.org/2000/svg\" height=\"24px\"viewBox=\"0 0 24 24\"\n",
              "       width=\"24px\">\n",
              "    <path d=\"M0 0h24v24H0V0z\" fill=\"none\"/>\n",
              "    <path d=\"M18.56 5.44l.94 2.06.94-2.06 2.06-.94-2.06-.94-.94-2.06-.94 2.06-2.06.94zm-11 1L8.5 8.5l.94-2.06 2.06-.94-2.06-.94L8.5 2.5l-.94 2.06-2.06.94zm10 10l.94 2.06.94-2.06 2.06-.94-2.06-.94-.94-2.06-.94 2.06-2.06.94z\"/><path d=\"M17.41 7.96l-1.37-1.37c-.4-.4-.92-.59-1.43-.59-.52 0-1.04.2-1.43.59L10.3 9.45l-7.72 7.72c-.78.78-.78 2.05 0 2.83L4 21.41c.39.39.9.59 1.41.59.51 0 1.02-.2 1.41-.59l7.78-7.78 2.81-2.81c.8-.78.8-2.07 0-2.86zM5.41 20L4 18.59l7.72-7.72 1.47 1.35L5.41 20z\"/>\n",
              "  </svg>\n",
              "      </button>\n",
              "      \n",
              "  <style>\n",
              "    .colab-df-container {\n",
              "      display:flex;\n",
              "      flex-wrap:wrap;\n",
              "      gap: 12px;\n",
              "    }\n",
              "\n",
              "    .colab-df-convert {\n",
              "      background-color: #E8F0FE;\n",
              "      border: none;\n",
              "      border-radius: 50%;\n",
              "      cursor: pointer;\n",
              "      display: none;\n",
              "      fill: #1967D2;\n",
              "      height: 32px;\n",
              "      padding: 0 0 0 0;\n",
              "      width: 32px;\n",
              "    }\n",
              "\n",
              "    .colab-df-convert:hover {\n",
              "      background-color: #E2EBFA;\n",
              "      box-shadow: 0px 1px 2px rgba(60, 64, 67, 0.3), 0px 1px 3px 1px rgba(60, 64, 67, 0.15);\n",
              "      fill: #174EA6;\n",
              "    }\n",
              "\n",
              "    [theme=dark] .colab-df-convert {\n",
              "      background-color: #3B4455;\n",
              "      fill: #D2E3FC;\n",
              "    }\n",
              "\n",
              "    [theme=dark] .colab-df-convert:hover {\n",
              "      background-color: #434B5C;\n",
              "      box-shadow: 0px 1px 3px 1px rgba(0, 0, 0, 0.15);\n",
              "      filter: drop-shadow(0px 1px 2px rgba(0, 0, 0, 0.3));\n",
              "      fill: #FFFFFF;\n",
              "    }\n",
              "  </style>\n",
              "\n",
              "      <script>\n",
              "        const buttonEl =\n",
              "          document.querySelector('#df-be5b0c45-ac12-4330-aefd-d5a1a2e64af9 button.colab-df-convert');\n",
              "        buttonEl.style.display =\n",
              "          google.colab.kernel.accessAllowed ? 'block' : 'none';\n",
              "\n",
              "        async function convertToInteractive(key) {\n",
              "          const element = document.querySelector('#df-be5b0c45-ac12-4330-aefd-d5a1a2e64af9');\n",
              "          const dataTable =\n",
              "            await google.colab.kernel.invokeFunction('convertToInteractive',\n",
              "                                                     [key], {});\n",
              "          if (!dataTable) return;\n",
              "\n",
              "          const docLinkHtml = 'Like what you see? Visit the ' +\n",
              "            '<a target=\"_blank\" href=https://colab.research.google.com/notebooks/data_table.ipynb>data table notebook</a>'\n",
              "            + ' to learn more about interactive tables.';\n",
              "          element.innerHTML = '';\n",
              "          dataTable['output_type'] = 'display_data';\n",
              "          await google.colab.output.renderOutput(dataTable, element);\n",
              "          const docLink = document.createElement('div');\n",
              "          docLink.innerHTML = docLinkHtml;\n",
              "          element.appendChild(docLink);\n",
              "        }\n",
              "      </script>\n",
              "    </div>\n",
              "  </div>\n",
              "  "
            ]
          },
          "metadata": {},
          "execution_count": 16
        }
      ]
    },
    {
      "cell_type": "code",
      "metadata": {
        "id": "pk86x4gokz4Z"
      },
      "source": [
        "# If you want to see the full output you can write it out to a file.\n",
        "# This will write to the temporary file space of a Google collab notebook if you run the notebook there.\n",
        "df.loc[df['ml_labels'] == 1.0].to_csv(r'matched_label_1.txt', header=None, index=None, sep=',')"
      ],
      "execution_count": 17,
      "outputs": []
    },
    {
      "cell_type": "markdown",
      "metadata": {
        "id": "dBkb_u3CrL8v"
      },
      "source": [
        "## Creating the Training Data Structures\n",
        "\n",
        "Now that we have labelled data, it is time to create the training set. \n",
        "In order to train our classifier we need the set of:\n",
        "* Samples `X` and\n",
        "* the set of labels for these samples `y`\n",
        "\n",
        "Both `X` and `y` have to be encoded in numerical form. \n",
        "In order to transform the text of the descriptions we make use of the `CountVectorizer`.\n",
        "\n",
        "For the vector holding the labels we just have to ensure it is an `int`.\n"
      ]
    },
    {
      "cell_type": "code",
      "metadata": {
        "colab": {
          "base_uri": "https://localhost:8080/"
        },
        "id": "cS0OwLcWajhA",
        "outputId": "0781ee39-fc9e-4f2e-f88b-e3f9fab91abe"
      },
      "source": [
        "import numpy as np\n",
        "from sklearn.feature_extraction.text import CountVectorizer\n",
        "count_vect = CountVectorizer()\n",
        "\n",
        "X = count_vect.fit_transform(df['store_description'].apply(lambda x: np.str_(x)))\n",
        "y = df['ml_labels'].astype(int)\n",
        "X.shape\n",
        "y.shape\n"
      ],
      "execution_count": null,
      "outputs": [
        {
          "output_type": "execute_result",
          "data": {
            "text/plain": [
              "(620863,)"
            ]
          },
          "metadata": {},
          "execution_count": 16
        }
      ]
    },
    {
      "cell_type": "code",
      "metadata": {
        "colab": {
          "base_uri": "https://localhost:8080/"
        },
        "id": "nV90oG7oGnlB",
        "outputId": "afef0c42-b0f9-476b-dcef-2047f28a8be3"
      },
      "source": [
        "# This shows you how the samples have been transformed from text into a numerical \n",
        "# represenation. If you want to see the full output you have to write it to a file.\n",
        "X[1:10].todense()"
      ],
      "execution_count": null,
      "outputs": [
        {
          "output_type": "execute_result",
          "data": {
            "text/plain": [
              "matrix([[0, 0, 0, ..., 0, 0, 0],\n",
              "        [0, 0, 0, ..., 0, 0, 0],\n",
              "        [0, 0, 0, ..., 0, 0, 0],\n",
              "        ...,\n",
              "        [0, 0, 0, ..., 0, 0, 0],\n",
              "        [0, 0, 0, ..., 0, 0, 0],\n",
              "        [0, 0, 0, ..., 0, 0, 0]])"
            ]
          },
          "metadata": {},
          "execution_count": 17
        }
      ]
    },
    {
      "cell_type": "markdown",
      "source": [
        "### Exercise: Train and Test Sets\n",
        "Take the input X and y and create a train and test version that we can use to create the first classifiers. "
      ],
      "metadata": {
        "id": "oOWJKRclNp-K"
      }
    },
    {
      "cell_type": "code",
      "source": [
        "from sklearn.model_selection import train_test_split\n",
        "\n",
        "X_train, X_test, y_train, y_test = train_test_split(X, y, test_size=0.4, random_state=54)"
      ],
      "metadata": {
        "id": "2UDcpomuNoTE"
      },
      "execution_count": null,
      "outputs": []
    },
    {
      "cell_type": "markdown",
      "metadata": {
        "id": "BZ7psG2esbb7"
      },
      "source": [
        "# Training and Scoring the Classifier Model\n",
        "\n",
        "After the all the hard work we have done above, the actual training and scoring of the classifier is very simple. \n",
        "\n",
        "As shown below, all we have to do is to call the `fit()` method with the input of the samples `X` and their labels `y`. \n",
        "\n",
        "Afterwards we measure by calling the `score()` method. \n"
      ]
    },
    {
      "cell_type": "code",
      "metadata": {
        "id": "U_4zP1lrbheU",
        "colab": {
          "base_uri": "https://localhost:8080/"
        },
        "outputId": "88aca5fb-feb7-443e-c475-687907d994de"
      },
      "source": [
        "from sklearn.naive_bayes import MultinomialNB\n",
        "clf = MultinomialNB().fit(X_train, y_train)\n",
        "clf.score(X_test, y_test)"
      ],
      "execution_count": null,
      "outputs": [
        {
          "output_type": "execute_result",
          "data": {
            "text/plain": [
              "0.9485475908611373"
            ]
          },
          "metadata": {},
          "execution_count": 20
        }
      ]
    },
    {
      "cell_type": "markdown",
      "metadata": {
        "id": "xdydiEJ9s4gY"
      },
      "source": [
        "# Practical Part Deliverables\n",
        "\n",
        "As part of the grading for Principles of  Machine Learning each group has to complete the following steps:\n",
        "\n",
        "### 1. Create a labelled dataset\n",
        "\n",
        "Following the schema shown above, map your chosen categories to keywords and create labels in an ml_labels column.\n",
        "\n",
        "After you have finished this process export your resulting dataframe as a `csv` file (example code for this is contained in this notebook). \n",
        "\n",
        "### 2. Train a classifier\n",
        "\n",
        "If you want you can use the same sample code contained in this notebook to train your first classifier based on your labelling. You can also look at the sci-kit learn documentation and try your hand at other classifiers (this is not required from a grading perspective).\n",
        "\n",
        "### 3. Measure correctly\n",
        "\n",
        "In the above example code we train and measure on the test set. This is already a good approach, and depending on the size of your test data can give meaningful results.\n",
        "Explore another way to measure by applying cross-validation when measuring. \n",
        "\n",
        "### 4. Interprete the process and your results\n",
        "\n",
        "Provide a short (not more than 10 sentences) written interpretation of the observed result and the process that we have used to create our classifier. \n",
        "\n",
        "Do you see any potential problems in the semi_supervised keyword labeling shortcut we have used?\n",
        "\n",
        "How would you interpret the observed results? Could the classifier be used for the discussed purpose of doing some preliminary competitive analysis (e.g. what is my competition in this area, how many shops exist that serve the products I target)\n"
      ]
    },
    {
      "cell_type": "markdown",
      "metadata": {
        "id": "HZ14qwzEw0S6"
      },
      "source": [
        "## Interpretation of the process and our results\n",
        "\n",
        "Write your input below."
      ]
    },
    {
      "cell_type": "markdown",
      "source": [
        "## 3. Measuring Correctly\n",
        "\n",
        "Provide your baseline measurements:\n",
        "- Train/test split based measurements:\n",
        "    - Split Ratio:\n",
        "    - Accuracy:\n",
        "- Cross-Validation measurements:\n",
        "    - Number of Folds:\n",
        "    - Accuracy:\n",
        "\n",
        "\n",
        "## 4. Interprete the process and your results\n",
        "\n",
        "- What is your general interpretation of the results? Are they good, bad, mediocre? Describe briefly.\n",
        "\n",
        "...\n",
        "\n",
        "- Do you see any potential problems in the semi_supervised keyword labeling shortcut that was used?\n",
        "\n",
        "\n",
        "...\n",
        "\n",
        "- How would you interpret the observed results? Could the classifier be used for your intended purpose? \n",
        "\n",
        "...\n",
        "\n",
        "\n",
        "- What could be done to improve the performance of your classifier?\n",
        "\n",
        "..."
      ],
      "metadata": {
        "id": "aXi4IKGtPOxF"
      }
    },
    {
      "cell_type": "markdown",
      "source": [
        "## Hand-in Procedure\n",
        "\n",
        "The hand-in for each group consists of the CSV file containing your labelled version of the dataframe, and your version of this notebook.\n",
        "\n",
        "Place the notebook file and the CSV file in a Zip file and upload it to the teams channel for Part II of the practical project. \n",
        "\n",
        "The name of the zip file should contain the last names of the group members. \n",
        "\n"
      ],
      "metadata": {
        "id": "07foL5nzu8Kt"
      }
    }
  ]
}